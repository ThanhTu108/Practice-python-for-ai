{
 "cells": [
  {
   "cell_type": "markdown",
   "id": "f37b64a1",
   "metadata": {},
   "source": [
    "# Câu 1: Tạo 1 list có tên lst_data, gồm các số từ 1-10"
   ]
  },
  {
   "cell_type": "code",
   "execution_count": 38,
   "id": "0ec7781c",
   "metadata": {},
   "outputs": [],
   "source": [
    "# lst_data = []\n",
    "# for i in range(1,11):\n",
    "#     lst_data.append(i)\n",
    "# lst_data"
   ]
  },
  {
   "cell_type": "code",
   "execution_count": 39,
   "id": "973e3a01",
   "metadata": {},
   "outputs": [
    {
     "data": {
      "text/plain": [
       "[1, 2, 3, 4, 5, 6, 7, 8, 9, 10]"
      ]
     },
     "execution_count": 39,
     "metadata": {},
     "output_type": "execute_result"
    }
   ],
   "source": [
    "lst_data = [i for i in range(1,11)]\n",
    "lst_data\n",
    "# Sắp xếp chuỗi\n",
    "sorted(lst_data)"
   ]
  },
  {
   "cell_type": "markdown",
   "id": "3ee10426",
   "metadata": {},
   "source": [
    "# Câu 2: tính median"
   ]
  },
  {
   "cell_type": "code",
   "execution_count": 40,
   "id": "056a60c7",
   "metadata": {},
   "outputs": [],
   "source": [
    "def cal_median(arr):\n",
    "    # N chan\n",
    "    sorted(arr)\n",
    "    if(len(arr)%2 == 0):\n",
    "        median = (arr[int(len(arr)/2 - 1)] + arr[int(len(arr)/2)])/2\n",
    "\n",
    "    else:\n",
    "        median = arr[int(len(arr)/2)]/2\n",
    "    return median"
   ]
  },
  {
   "cell_type": "code",
   "execution_count": 41,
   "id": "74b43a42",
   "metadata": {},
   "outputs": [
    {
     "data": {
      "text/plain": [
       "5.5"
      ]
     },
     "execution_count": 41,
     "metadata": {},
     "output_type": "execute_result"
    }
   ],
   "source": [
    "cal_median(lst_data)"
   ]
  },
  {
   "cell_type": "code",
   "execution_count": 46,
   "id": "4844b0fd",
   "metadata": {},
   "outputs": [
    {
     "ename": "AttributeError",
     "evalue": "'list' object has no attribute 'sorted'",
     "output_type": "error",
     "traceback": [
      "\u001b[31m---------------------------------------------------------------------------\u001b[39m",
      "\u001b[31mAttributeError\u001b[39m                            Traceback (most recent call last)",
      "\u001b[36mCell\u001b[39m\u001b[36m \u001b[39m\u001b[32mIn[46]\u001b[39m\u001b[32m, line 2\u001b[39m\n\u001b[32m      1\u001b[39m lst_odd_filter = [i \u001b[38;5;28;01mfor\u001b[39;00m i \u001b[38;5;129;01min\u001b[39;00m lst_data \u001b[38;5;28;01mif\u001b[39;00m(i%\u001b[32m2\u001b[39m!=\u001b[32m0\u001b[39m)]\n\u001b[32m----> \u001b[39m\u001b[32m2\u001b[39m \u001b[43mlst_odd_filter\u001b[49m\u001b[43m.\u001b[49m\u001b[43msorted\u001b[49m(\u001b[38;5;28mreversed\u001b[39m = \u001b[38;5;28;01mTrue\u001b[39;00m)\n\u001b[32m      3\u001b[39m \u001b[38;5;28mprint\u001b[39m(lst_odd_filter)\n",
      "\u001b[31mAttributeError\u001b[39m: 'list' object has no attribute 'sorted'"
     ]
    }
   ],
   "source": [
    "lst_odd_filter = [i for i in lst_data if(i%2!=0)]\n",
    "lst_odd_filter.sorted(reversed = True)\n",
    "print(lst_odd_filter)"
   ]
  }
 ],
 "metadata": {
  "kernelspec": {
   "display_name": "venv",
   "language": "python",
   "name": "python3"
  },
  "language_info": {
   "codemirror_mode": {
    "name": "ipython",
    "version": 3
   },
   "file_extension": ".py",
   "mimetype": "text/x-python",
   "name": "python",
   "nbconvert_exporter": "python",
   "pygments_lexer": "ipython3",
   "version": "3.13.3"
  }
 },
 "nbformat": 4,
 "nbformat_minor": 5
}
