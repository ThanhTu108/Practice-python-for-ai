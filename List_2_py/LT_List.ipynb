{
 "cells": [
  {
   "cell_type": "markdown",
   "id": "f37b64a1",
   "metadata": {},
   "source": [
    "# Câu 1: Tạo 1 list có tên lst_data, gồm các số từ 1-10"
   ]
  },
  {
   "cell_type": "code",
   "execution_count": 77,
   "id": "0ec7781c",
   "metadata": {},
   "outputs": [],
   "source": [
    "# lst_data = []\n",
    "# for i in range(1,11):\n",
    "#     lst_data.append(i)\n",
    "# lst_data"
   ]
  },
  {
   "cell_type": "code",
   "execution_count": 78,
   "id": "973e3a01",
   "metadata": {},
   "outputs": [
    {
     "data": {
      "text/plain": [
       "[1, 2, 3, 4, 5, 6, 7, 8, 9, 10]"
      ]
     },
     "execution_count": 78,
     "metadata": {},
     "output_type": "execute_result"
    }
   ],
   "source": [
    "lst_data = [i for i in range(1,11)]\n",
    "lst_data\n",
    "# Sắp xếp chuỗi\n",
    "sorted(lst_data)"
   ]
  },
  {
   "cell_type": "markdown",
   "id": "3ee10426",
   "metadata": {},
   "source": [
    "# Câu 2: tính median"
   ]
  },
  {
   "cell_type": "code",
   "execution_count": 79,
   "id": "056a60c7",
   "metadata": {},
   "outputs": [],
   "source": [
    "def cal_median(arr):\n",
    "    # N chan\n",
    "    sorted(arr)\n",
    "    if(len(arr)%2 == 0):\n",
    "        median = (arr[int(len(arr)/2 - 1)] + arr[int(len(arr)/2)])/2\n",
    "    else:\n",
    "        median = arr[int((len(arr)+1)/2) - 1]\n",
    "    return median"
   ]
  },
  {
   "cell_type": "code",
   "execution_count": 80,
   "id": "74b43a42",
   "metadata": {},
   "outputs": [
    {
     "data": {
      "text/plain": [
       "5.5"
      ]
     },
     "execution_count": 80,
     "metadata": {},
     "output_type": "execute_result"
    }
   ],
   "source": [
    "cal_median(lst_data)"
   ]
  },
  {
   "cell_type": "code",
   "execution_count": 81,
   "id": "1bed954f",
   "metadata": {},
   "outputs": [
    {
     "name": "stdout",
     "output_type": "stream",
     "text": [
      "[1, 2, 3, 4, 5, 6, 7, 8, 9, 10, 11]\n"
     ]
    },
    {
     "data": {
      "text/plain": [
       "6"
      ]
     },
     "execution_count": 81,
     "metadata": {},
     "output_type": "execute_result"
    }
   ],
   "source": [
    "arr_odd = [i for i in range(1, 12)]\n",
    "print(arr_odd)\n",
    "cal_median(arr_odd)"
   ]
  },
  {
   "cell_type": "code",
   "execution_count": 82,
   "id": "4844b0fd",
   "metadata": {},
   "outputs": [
    {
     "name": "stdout",
     "output_type": "stream",
     "text": [
      "[9, 7, 5, 3, 1]\n"
     ]
    }
   ],
   "source": [
    "lst_odd_filter = [i for i in lst_data if(i%2!=0)]\n",
    "lst_odd_filter.sort(reverse= True)\n",
    "print(lst_odd_filter)   "
   ]
  }
 ],
 "metadata": {
  "kernelspec": {
   "display_name": "venv",
   "language": "python",
   "name": "python3"
  },
  "language_info": {
   "codemirror_mode": {
    "name": "ipython",
    "version": 3
   },
   "file_extension": ".py",
   "mimetype": "text/x-python",
   "name": "python",
   "nbconvert_exporter": "python",
   "pygments_lexer": "ipython3",
   "version": "3.13.3"
  }
 },
 "nbformat": 4,
 "nbformat_minor": 5
}
