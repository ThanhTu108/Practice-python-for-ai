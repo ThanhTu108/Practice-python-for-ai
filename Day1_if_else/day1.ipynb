{
 "cells": [
  {
   "cell_type": "markdown",
   "id": "89554484",
   "metadata": {},
   "source": [
    "# Tính Can/chi theo năm"
   ]
  },
  {
   "cell_type": "markdown",
   "id": "b5a96763",
   "metadata": {},
   "source": [
    "## Can: năm % 10\n",
    "## Chi: năm % 12\n",
    "%: chia lấy dư"
   ]
  },
  {
   "cell_type": "code",
   "execution_count": 7,
   "id": "7c37de76",
   "metadata": {},
   "outputs": [],
   "source": [
    "def cal_can_chi_calendar(year):\n",
    "    result = ''\n",
    "    tempCan = year % 10\n",
    "    if tempCan == 0:\n",
    "        result += \"Canh\"\n",
    "    elif tempCan == 1:\n",
    "        result += \"Tân\"\n",
    "    elif tempCan == 2:\n",
    "        result += \"Nhâm\"\n",
    "    elif tempCan == 3:\n",
    "        result += \"Quý\"\n",
    "    elif tempCan == 4:\n",
    "        result += \"Giáp\"\n",
    "    elif tempCan == 5:\n",
    "        result += \"Ất\"\n",
    "    elif tempCan == 6:\n",
    "        result += \"Bính\"\n",
    "    elif tempCan == 7:\n",
    "        result += \"Đinh\"\n",
    "    elif tempCan == 8:\n",
    "        result += \"Mậu\"\n",
    "    elif tempCan == 9:\n",
    "        result += \"Kỷ\"\n",
    "    \n",
    "    result += ' '\n",
    "\n",
    "    tempChi = year % 12\n",
    "    if tempChi == 0:\n",
    "        result += \"Thân\"\n",
    "    elif tempChi == 1:\n",
    "        result += \"Dậu\"\n",
    "    elif tempChi == 2:\n",
    "        result += \"Tuất\"\n",
    "    elif tempChi == 3:\n",
    "        result += \"Hợi\"\n",
    "    elif tempChi == 4:\n",
    "        result += \"Tí\"\n",
    "    elif tempChi == 5:\n",
    "        result += \"Sửu\"\n",
    "    elif tempChi == 6:\n",
    "        result += \"Dần\"\n",
    "    elif tempChi == 7:\n",
    "        result += \"Mẹo\"\n",
    "    elif tempChi == 8:\n",
    "        result += \"Thìn\"\n",
    "    elif tempChi == 9:\n",
    "        result += \"Tỵ\"\n",
    "    elif tempChi == 10:\n",
    "        result += \"Ngọ\"\n",
    "    elif tempChi == 11:\n",
    "        result += \"Mùi\"\n",
    "    return result"
   ]
  },
  {
   "cell_type": "markdown",
   "id": "00eb0709",
   "metadata": {},
   "source": [
    "## Test case\n"
   ]
  },
  {
   "cell_type": "code",
   "execution_count": 8,
   "id": "aec9a3ab",
   "metadata": {},
   "outputs": [
    {
     "name": "stdout",
     "output_type": "stream",
     "text": [
      "Quý Mùi\n"
     ]
    }
   ],
   "source": [
    "print(cal_can_chi_calendar(2003))"
   ]
  }
 ],
 "metadata": {
  "kernelspec": {
   "display_name": "venv",
   "language": "python",
   "name": "python3"
  },
  "language_info": {
   "codemirror_mode": {
    "name": "ipython",
    "version": 3
   },
   "file_extension": ".py",
   "mimetype": "text/x-python",
   "name": "python",
   "nbconvert_exporter": "python",
   "pygments_lexer": "ipython3",
   "version": "3.13.3"
  }
 },
 "nbformat": 4,
 "nbformat_minor": 5
}
