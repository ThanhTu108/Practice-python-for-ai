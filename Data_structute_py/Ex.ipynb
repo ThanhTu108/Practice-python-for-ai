{
 "cells": [
  {
   "cell_type": "markdown",
   "id": "2e78f2d6",
   "metadata": {},
   "source": [
    "# fill the matrix"
   ]
  },
  {
   "cell_type": "code",
   "execution_count": 13,
   "id": "1bc544ef",
   "metadata": {},
   "outputs": [
    {
     "name": "stdout",
     "output_type": "stream",
     "text": [
      "[[0, 0, 0, 0], [0, 0, 0, 0], [0, 0, 0, 0], [0, 0, 0, 0]]\n"
     ]
    }
   ],
   "source": [
    "first_column = [1,5,9,13]\n",
    "first_row = [1,2,3,4]\n",
    "row = len(first_row)\n",
    "column = len(first_column)\n",
    "matrix = [[0] * column for _ in range(row)]\n",
    "print(matrix)"
   ]
  },
  {
   "cell_type": "markdown",
   "id": "829ee3b8",
   "metadata": {},
   "source": [
    "Fill first row and first column"
   ]
  },
  {
   "cell_type": "code",
   "execution_count": 14,
   "id": "ba901298",
   "metadata": {},
   "outputs": [
    {
     "name": "stdout",
     "output_type": "stream",
     "text": [
      "[[1, 2, 3, 4], [0, 0, 0, 0], [0, 0, 0, 0], [0, 0, 0, 0]]\n"
     ]
    }
   ],
   "source": [
    "for c in range(column):\n",
    "    matrix[0][c] = first_row[c]\n",
    "print(matrix)"
   ]
  },
  {
   "cell_type": "code",
   "execution_count": 15,
   "id": "bff33e32",
   "metadata": {},
   "outputs": [
    {
     "name": "stdout",
     "output_type": "stream",
     "text": [
      "[[1, 2, 3, 4], [5, 0, 0, 0], [9, 0, 0, 0], [13, 0, 0, 0]]\n"
     ]
    }
   ],
   "source": [
    "for r in range(row):\n",
    "    matrix[r][0] = first_column[r]\n",
    "print(matrix)"
   ]
  },
  {
   "cell_type": "code",
   "execution_count": 16,
   "id": "f1900287",
   "metadata": {},
   "outputs": [],
   "source": [
    "for r in range(1, row):\n",
    "    for c in range(1, column):\n",
    "        matrix[r][c] = matrix[r][c-1] + matrix[r-1][c-1] + matrix[r-1][c]"
   ]
  },
  {
   "cell_type": "code",
   "execution_count": 17,
   "id": "345aeb00",
   "metadata": {},
   "outputs": [
    {
     "name": "stdout",
     "output_type": "stream",
     "text": [
      "[[1, 2, 3, 4], [5, 8, 13, 20], [9, 22, 43, 76], [13, 44, 109, 228]]\n"
     ]
    }
   ],
   "source": [
    "print(matrix)"
   ]
  }
 ],
 "metadata": {
  "kernelspec": {
   "display_name": "venv",
   "language": "python",
   "name": "python3"
  },
  "language_info": {
   "codemirror_mode": {
    "name": "ipython",
    "version": 3
   },
   "file_extension": ".py",
   "mimetype": "text/x-python",
   "name": "python",
   "nbconvert_exporter": "python",
   "pygments_lexer": "ipython3",
   "version": "3.13.3"
  }
 },
 "nbformat": 4,
 "nbformat_minor": 5
}
