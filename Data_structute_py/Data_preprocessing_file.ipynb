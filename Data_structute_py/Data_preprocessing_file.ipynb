{
 "cells": [
  {
   "cell_type": "markdown",
   "id": "8c158b9d",
   "metadata": {},
   "source": [
    "Step 1: Read data from file"
   ]
  }
 ],
 "metadata": {
  "language_info": {
   "name": "python"
  }
 },
 "nbformat": 4,
 "nbformat_minor": 5
}
