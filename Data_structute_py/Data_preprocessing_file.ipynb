{
 "cells": [
  {
   "cell_type": "markdown",
   "id": "8c158b9d",
   "metadata": {},
   "source": [
    "Step 1: Read data from file"
   ]
  },
  {
   "cell_type": "code",
   "execution_count": 27,
   "id": "f1e42dbc",
   "metadata": {},
   "outputs": [],
   "source": [
    "\n",
    "def read_data(file_name):\n",
    "    with open(file_name, 'r') as file:\n",
    "        data = file.read()\n",
    "        file.close()\n",
    "    return data.split(',')"
   ]
  },
  {
   "cell_type": "markdown",
   "id": "a70a4e2a",
   "metadata": {},
   "source": [
    "Test "
   ]
  },
  {
   "cell_type": "code",
   "execution_count": 28,
   "id": "1986275b",
   "metadata": {},
   "outputs": [
    {
     "data": {
      "text/plain": [
       "['1', '', '2', '3', '4', '5', '6', '7', '8']"
      ]
     },
     "execution_count": 28,
     "metadata": {},
     "output_type": "execute_result"
    }
   ],
   "source": [
    "file_name = \"data.txt\"\n",
    "read_data(file_name)"
   ]
  },
  {
   "cell_type": "markdown",
   "id": "7e0f2968",
   "metadata": {},
   "source": [
    "Fill missing data with mean (average)"
   ]
  },
  {
   "cell_type": "code",
   "execution_count": 29,
   "id": "ed660b45",
   "metadata": {},
   "outputs": [],
   "source": [
    "def fill_missing_data_avarage(data):\n",
    "    missing_value = [i for i,x in enumerate(data) if len(x) == 0]\n",
    "    non_missing_value = [float(x) for x in data if len(x) > 0]\n",
    "    average = sum(non_missing_value) / len(non_missing_value)\n",
    "    for index in missing_value:\n",
    "        data[index] = average\n",
    "    return data\n"
   ]
  },
  {
   "cell_type": "code",
   "execution_count": 30,
   "id": "27c48569",
   "metadata": {},
   "outputs": [
    {
     "data": {
      "text/plain": [
       "['1', 4.5, '2', '3', '4', '5', '6', '7', '8']"
      ]
     },
     "execution_count": 30,
     "metadata": {},
     "output_type": "execute_result"
    }
   ],
   "source": [
    "fill_missing_data_avarage(read_data(file_name))"
   ]
  },
  {
   "cell_type": "markdown",
   "id": "9e6ddd38",
   "metadata": {},
   "source": [
    "# Write file\n"
   ]
  },
  {
   "cell_type": "code",
   "execution_count": 31,
   "id": "ad977b92",
   "metadata": {},
   "outputs": [],
   "source": [
    "def write_data(file_name, data):\n",
    "    with open(file_name, 'w') as file:\n",
    "        file.write(','.join(str(x) for x in data))\n",
    "        file.close\n",
    "        return "
   ]
  },
  {
   "cell_type": "code",
   "execution_count": 32,
   "id": "586fa07b",
   "metadata": {},
   "outputs": [],
   "source": [
    "write_data(\"result.txt\", [1, 123])"
   ]
  }
 ],
 "metadata": {
  "kernelspec": {
   "display_name": "venv",
   "language": "python",
   "name": "python3"
  },
  "language_info": {
   "codemirror_mode": {
    "name": "ipython",
    "version": 3
   },
   "file_extension": ".py",
   "mimetype": "text/x-python",
   "name": "python",
   "nbconvert_exporter": "python",
   "pygments_lexer": "ipython3",
   "version": "3.13.3"
  }
 },
 "nbformat": 4,
 "nbformat_minor": 5
}
