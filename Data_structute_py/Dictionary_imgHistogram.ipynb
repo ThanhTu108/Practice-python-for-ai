{
 "cells": [
  {
   "cell_type": "code",
   "execution_count": 51,
   "id": "69982a97",
   "metadata": {},
   "outputs": [],
   "source": [
    "import cv2"
   ]
  },
  {
   "cell_type": "code",
   "execution_count": 52,
   "id": "14d56ecf",
   "metadata": {},
   "outputs": [],
   "source": [
    "# Read the image\n",
    "cat_image = cv2.imread(\"binary_cat.png\", 0) # 0 for grayscale, 1 for color\n",
    "cv2.imshow(\"Cat image\", cat_image)\n",
    "cv2.waitKey(0)\n",
    "cv2.destroyAllWindows()"
   ]
  },
  {
   "cell_type": "code",
   "execution_count": 53,
   "id": "fab5dda4",
   "metadata": {},
   "outputs": [
    {
     "name": "stdout",
     "output_type": "stream",
     "text": [
      "301\n",
      "480\n"
     ]
    }
   ],
   "source": [
    "counts = dict()\n",
    "height, width = cat_image.shape\n",
    "print(height)\n",
    "print(width)\n",
    "\n",
    "for r in range(height):\n",
    "    for c in range(width):\n",
    "        counts[cat_image[r,c]] = counts.get(cat_image[r,c], 0) + 1"
   ]
  },
  {
   "cell_type": "code",
   "execution_count": 54,
   "id": "ade93c9c",
   "metadata": {},
   "outputs": [
    {
     "name": "stdout",
     "output_type": "stream",
     "text": [
      "{np.uint8(255): 54497, np.uint8(0): 89983}\n"
     ]
    }
   ],
   "source": [
    "print(counts)"
   ]
  },
  {
   "cell_type": "markdown",
   "id": "ecb23d9c",
   "metadata": {},
   "source": [
    "## Visualization "
   ]
  },
  {
   "cell_type": "code",
   "execution_count": 55,
   "id": "2869558e",
   "metadata": {},
   "outputs": [
    {
     "data": {
      "image/png": "[encoded data removed]",
      "text/plain": [
       "<Figure size 640x480 with 1 Axes>"
      ]
     },
     "metadata": {},
     "output_type": "display_data"
    }
   ],
   "source": [
    "import matplotlib.pyplot as plt\n",
    "names = list(counts.keys())\n",
    "values = list(counts.values())\n",
    "plt.bar(range(len(names)), values, tick_label=names)\n",
    "plt.show()"
   ]
  }
 ],
 "metadata": {
  "kernelspec": {
   "display_name": "venv",
   "language": "python",
   "name": "python3"
  },
  "language_info": {
   "codemirror_mode": {
    "name": "ipython",
    "version": 3
   },
   "file_extension": ".py",
   "mimetype": "text/x-python",
   "name": "python",
   "nbconvert_exporter": "python",
   "pygments_lexer": "ipython3",
   "version": "3.13.3"
  }
 },
 "nbformat": 4,
 "nbformat_minor": 5
}
