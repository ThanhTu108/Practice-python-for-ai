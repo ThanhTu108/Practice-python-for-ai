{
 "cells": [
  {
   "cell_type": "markdown",
   "id": "7e4e7239",
   "metadata": {},
   "source": [
    "* Precission = TP/(TP + FP) \n",
    "* Recall = TP / (TP + FN)\n",
    "* F1_score = 2 * (Precission * Recall) / (Precission + Recall)"
   ]
  },
  {
   "cell_type": "code",
   "execution_count": 31,
   "id": "b2fc8135",
   "metadata": {},
   "outputs": [],
   "source": [
    "def cal_F1_score(tp, fp, fn):\n",
    "    if not isinstance(tp, int) or not isinstance(fp, int) or not isinstance(fn, int):\n",
    "        if not isinstance(tp,int):\n",
    "            print(\"tp must be int\")\n",
    "        elif not isinstance(fp,int):\n",
    "            print(\"fp must be int\")\n",
    "        elif not isinstance(fn,int):\n",
    "            print(\"fn must be int\")\n",
    "        return\n",
    "    elif tp <=0 or fp <= 0 or fn <=0:\n",
    "        print(\"tp, fp, fn must be greater than 0\")\n",
    "        return\n",
    "    else:\n",
    "        precision = tp/(tp+fp)\n",
    "        recall = tp / (tp + fn)\n",
    "        F1_score = 2 *(precision * recall)/(precision + recall)\n",
    "    print(f\"Precision= {precision}\")\n",
    "    print(f\"recall= {recall}\")\n",
    "    print(f\"F1_score= {F1_score}\")"
   ]
  },
  {
   "cell_type": "code",
   "execution_count": 32,
   "id": "4ca76afb",
   "metadata": {},
   "outputs": [
    {
     "name": "stdout",
     "output_type": "stream",
     "text": [
      "Precision= 0.2857142857142857\n",
      "recall= 0.4\n",
      "F1_score= 0.3333333333333333\n"
     ]
    }
   ],
   "source": [
    "cal_F1_score(2,5,3)"
   ]
  }
 ],
 "metadata": {
  "kernelspec": {
   "display_name": "venv",
   "language": "python",
   "name": "python3"
  },
  "language_info": {
   "codemirror_mode": {
    "name": "ipython",
    "version": 3
   },
   "file_extension": ".py",
   "mimetype": "text/x-python",
   "name": "python",
   "nbconvert_exporter": "python",
   "pygments_lexer": "ipython3",
   "version": "3.13.3"
  }
 },
 "nbformat": 4,
 "nbformat_minor": 5
}
