{
 "cells": [
  {
   "cell_type": "markdown",
   "id": "cf8b19ff",
   "metadata": {},
   "source": [
    "# sin(x), cos(x), sinh(x), cosh(x)"
   ]
  },
  {
   "cell_type": "code",
   "execution_count": 26,
   "id": "a0f474bd",
   "metadata": {},
   "outputs": [],
   "source": [
    "import math"
   ]
  },
  {
   "cell_type": "markdown",
   "id": "a97488df",
   "metadata": {},
   "source": [
    "# Calculate factorial"
   ]
  },
  {
   "cell_type": "code",
   "execution_count": 27,
   "id": "9c96bcae",
   "metadata": {},
   "outputs": [],
   "source": [
    "# Func factory\n",
    "def factorial(value):\n",
    "    result = 1\n",
    "    for i in range(1, value+1):\n",
    "        result *=i\n",
    "    return result"
   ]
  },
  {
   "cell_type": "markdown",
   "id": "2b06b840",
   "metadata": {},
   "source": [
    "# Sin(x)"
   ]
  },
  {
   "cell_type": "code",
   "execution_count": 28,
   "id": "3f1e9b01",
   "metadata": {},
   "outputs": [],
   "source": [
    "def cal_sin_taylor(x, n):\n",
    "    sinx = 0\n",
    "    for i in range(n+1):\n",
    "        coef = (-1)**i\n",
    "        num = x**(2*i + 1)  #x^(2i+1)\n",
    "        denom = factorial(2*i+1)    #denominator\n",
    "        temp_sinx = coef*(num/denom)\n",
    "        sinx += temp_sinx\n",
    "    return sinx"
   ]
  },
  {
   "cell_type": "markdown",
   "id": "2c85c544",
   "metadata": {},
   "source": [
    "Test case sinx"
   ]
  },
  {
   "cell_type": "code",
   "execution_count": 29,
   "id": "4b917119",
   "metadata": {},
   "outputs": [
    {
     "name": "stdout",
     "output_type": "stream",
     "text": [
      "func: 0.49999999999999994\n",
      "Real: 0.49999999999999994\n"
     ]
    }
   ],
   "source": [
    "a = math.radians(30)\n",
    "print(f\"func: {cal_sin_taylor(a, 10)}\")\n",
    "print(f\"Real: {math.sin(a)}\")"
   ]
  },
  {
   "cell_type": "markdown",
   "id": "a3009a45",
   "metadata": {},
   "source": [
    "# Cos(x)"
   ]
  },
  {
   "cell_type": "code",
   "execution_count": null,
   "id": "5bee29d4",
   "metadata": {},
   "outputs": [],
   "source": [
    "def cal_cos_taylor(x, n):\n",
    "    cosx = 0\n",
    "    for i in range(n+1):\n",
    "        coef = (-1)**i\n",
    "        num = x**(2*i)  #x^(2i+1)\n",
    "        denom = factorial(2*i)    #denominator\n",
    "        temp_cosx= coef*(num/denom)\n",
    "        cosx += temp_cosx\n",
    "    return cosx"
   ]
  }
 ],
 "metadata": {
  "kernelspec": {
   "display_name": "venv",
   "language": "python",
   "name": "python3"
  },
  "language_info": {
   "codemirror_mode": {
    "name": "ipython",
    "version": 3
   },
   "file_extension": ".py",
   "mimetype": "text/x-python",
   "name": "python",
   "nbconvert_exporter": "python",
   "pygments_lexer": "ipython3",
   "version": "3.13.3"
  }
 },
 "nbformat": 4,
 "nbformat_minor": 5
}
