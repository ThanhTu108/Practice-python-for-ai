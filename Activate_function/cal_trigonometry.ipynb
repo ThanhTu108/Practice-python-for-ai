{
 "cells": [
  {
   "cell_type": "markdown",
   "id": "cf8b19ff",
   "metadata": {},
   "source": [
    "# sin(x), cos(x), sinh(x), cosh(x)"
   ]
  },
  {
   "cell_type": "code",
   "execution_count": 42,
   "id": "a0f474bd",
   "metadata": {},
   "outputs": [],
   "source": [
    "import math"
   ]
  },
  {
   "cell_type": "markdown",
   "id": "a97488df",
   "metadata": {},
   "source": [
    "# Calculate factorial"
   ]
  },
  {
   "cell_type": "code",
   "execution_count": 43,
   "id": "9c96bcae",
   "metadata": {},
   "outputs": [],
   "source": [
    "# Func factory\n",
    "def factorial(value):\n",
    "    result = 1\n",
    "    for i in range(1, value+1):\n",
    "        result *=i\n",
    "    return result"
   ]
  },
  {
   "cell_type": "markdown",
   "id": "2b06b840",
   "metadata": {},
   "source": [
    "# Sin(x)"
   ]
  },
  {
   "cell_type": "code",
   "execution_count": 44,
   "id": "3f1e9b01",
   "metadata": {},
   "outputs": [],
   "source": [
    "def cal_sin_taylor(x, n):\n",
    "    sinx = 0\n",
    "    for i in range(n+1):\n",
    "        coef = (-1)**i\n",
    "        num = x**(2*i + 1)  #x^(2i+1)\n",
    "        denom = factorial(2*i+1)    #denominator\n",
    "        temp_sinx = coef*(num/denom)\n",
    "        sinx += temp_sinx\n",
    "    return sinx"
   ]
  },
  {
   "cell_type": "markdown",
   "id": "2c85c544",
   "metadata": {},
   "source": [
    "Test case sinx"
   ]
  },
  {
   "cell_type": "code",
   "execution_count": 45,
   "id": "4b917119",
   "metadata": {},
   "outputs": [
    {
     "name": "stdout",
     "output_type": "stream",
     "text": [
      "func: 0.49999999999999994\n",
      "Real: 0.49999999999999994\n"
     ]
    }
   ],
   "source": [
    "a = math.radians(30)\n",
    "print(f\"func: {cal_sin_taylor(a, 10)}\")\n",
    "print(f\"Real: {math.sin(a)}\")"
   ]
  },
  {
   "cell_type": "markdown",
   "id": "a3009a45",
   "metadata": {},
   "source": [
    "# Cos(x)"
   ]
  },
  {
   "cell_type": "code",
   "execution_count": 46,
   "id": "5bee29d4",
   "metadata": {},
   "outputs": [],
   "source": [
    "def cal_cos_taylor(x, n):\n",
    "    cosx = 0\n",
    "    for i in range(n+1):\n",
    "        coef = (-1)**i\n",
    "        num = x**(2*i)  #x^(2i+1)\n",
    "        denom = factorial(2*i)    #denominator\n",
    "        temp_cosx= coef*(num/denom)\n",
    "        cosx += temp_cosx\n",
    "    return cosx"
   ]
  },
  {
   "cell_type": "markdown",
   "id": "1b5a45e8",
   "metadata": {},
   "source": [
    "test case cos(x)"
   ]
  },
  {
   "cell_type": "code",
   "execution_count": 47,
   "id": "c6e9a5d7",
   "metadata": {},
   "outputs": [
    {
     "name": "stdout",
     "output_type": "stream",
     "text": [
      "func: 0.8660254037844386\n",
      "Real: 0.8660254037844387\n"
     ]
    }
   ],
   "source": [
    "a = math.radians(30)\n",
    "print(f\"func: {cal_cos_taylor(a, 10)}\")\n",
    "print(f\"Real: {math.cos(a)}\")"
   ]
  },
  {
   "cell_type": "markdown",
   "id": "69aa3b0a",
   "metadata": {},
   "source": [
    "# sinh(x)"
   ]
  },
  {
   "cell_type": "code",
   "execution_count": 48,
   "id": "f5f525d6",
   "metadata": {},
   "outputs": [],
   "source": [
    "def cal_sinh_taylor(x, n):\n",
    "    sinhx = 0\n",
    "    for i in range(n+1):\n",
    "        # coef = (-1)**i\n",
    "        num = x**(2*i+1)  #x^(2i+1)\n",
    "        denom = factorial(2*i+1)    #denominator\n",
    "        # temp_sinhx= coef*(num/denom)\n",
    "        temp_sinhx= (num/denom)\n",
    "        sinhx += temp_sinhx\n",
    "    return sinhx"
   ]
  },
  {
   "cell_type": "markdown",
   "id": "0d3f53bd",
   "metadata": {},
   "source": [
    "test case sinh(x)"
   ]
  },
  {
   "cell_type": "code",
   "execution_count": 49,
   "id": "9e666569",
   "metadata": {},
   "outputs": [
    {
     "name": "stdout",
     "output_type": "stream",
     "text": [
      "func: 0.5478534738880397\n",
      "Real: 0.5478534738880397\n"
     ]
    }
   ],
   "source": [
    "a = math.radians(30)\n",
    "print(f\"func: {cal_sinh_taylor(a, 10)}\")\n",
    "print(f\"Real: {math.sinh(a)}\")"
   ]
  }
 ],
 "metadata": {
  "kernelspec": {
   "display_name": "venv",
   "language": "python",
   "name": "python3"
  },
  "language_info": {
   "codemirror_mode": {
    "name": "ipython",
    "version": 3
   },
   "file_extension": ".py",
   "mimetype": "text/x-python",
   "name": "python",
   "nbconvert_exporter": "python",
   "pygments_lexer": "ipython3",
   "version": "3.13.3"
  }
 },
 "nbformat": 4,
 "nbformat_minor": 5
}
