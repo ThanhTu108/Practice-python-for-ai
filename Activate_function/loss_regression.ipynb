{
 "cells": [
  {
   "cell_type": "markdown",
   "id": "070085f2",
   "metadata": {},
   "source": [
    "# Func to calculate MAE( Mean absolute error)"
   ]
  },
  {
   "cell_type": "code",
   "execution_count": 63,
   "id": "247f47b5",
   "metadata": {},
   "outputs": [],
   "source": [
    "def mean(N):\n",
    "    mean = 0\n",
    "    for i in range(N):\n",
    "        mean+=1\n",
    "    mean/=N\n",
    "    return mean\n"
   ]
  },
  {
   "cell_type": "code",
   "execution_count": 64,
   "id": "19103e89",
   "metadata": {},
   "outputs": [
    {
     "data": {
      "text/plain": [
       "1.0"
      ]
     },
     "execution_count": 64,
     "metadata": {},
     "output_type": "execute_result"
    }
   ],
   "source": [
    "mean(3)"
   ]
  },
  {
   "cell_type": "code",
   "execution_count": 65,
   "id": "8569e816",
   "metadata": {},
   "outputs": [],
   "source": [
    "import random\n",
    "import math"
   ]
  },
  {
   "cell_type": "code",
   "execution_count": 66,
   "id": "b680fd86",
   "metadata": {},
   "outputs": [],
   "source": [
    "def cal_mae(N):\n",
    "    mae = 0\n",
    "    for i in range(N):\n",
    "        y = random.random()\n",
    "        y_hat = random.random()\n",
    "        abs_err = abs(y - y_hat)\n",
    "        print(f\"y = {y}, y_hat = {y_hat}\")\n",
    "        mae = mae + abs_err\n",
    "    mae /=N\n",
    "    return mae\n"
   ]
  },
  {
   "cell_type": "code",
   "execution_count": 67,
   "id": "886129c3",
   "metadata": {},
   "outputs": [
    {
     "name": "stdout",
     "output_type": "stream",
     "text": [
      "y = 0.1818882228760853, y_hat = 0.38321427064480407\n",
      "y = 0.6826956055840656, y_hat = 0.8394873009620641\n",
      "y = 0.18239373292712435, y_hat = 0.825250724305115\n",
      "y = 0.9957140898333252, y_hat = 0.4217920819192945\n",
      "y = 0.340497287873719, y_hat = 0.9399732755991457\n",
      "y = 0.8373163657283247, y_hat = 0.7798869185137677\n",
      "y = 0.9039134449228762, y_hat = 0.7460352769175786\n",
      "y = 0.32911296219584774, y_hat = 0.6338335491746786\n",
      "y = 0.13455583372912971, y_hat = 0.2894116984785463\n",
      "y = 0.9305953264176186, y_hat = 0.337808006017576\n",
      "y = 0.6970788261852676, y_hat = 0.14664053884358208\n",
      "y = 0.3960731742728645, y_hat = 0.3823651665912843\n",
      "y = 0.524296494358264, y_hat = 0.7799069967942834\n",
      "y = 0.37275597207819045, y_hat = 0.5063802379741184\n",
      "y = 0.40014611464084826, y_hat = 0.9775973203707716\n",
      "y = 0.6261618850666528, y_hat = 0.6829866394360617\n",
      "y = 0.8355127557353308, y_hat = 0.2358243695391944\n",
      "y = 0.912914785901696, y_hat = 0.6565874736226139\n",
      "y = 0.5045668847296596, y_hat = 0.6905314430115942\n",
      "y = 0.8507758994281843, y_hat = 0.5764745485816137\n"
     ]
    },
    {
     "data": {
      "text/plain": [
       "0.317299137428529"
      ]
     },
     "execution_count": 67,
     "metadata": {},
     "output_type": "execute_result"
    }
   ],
   "source": [
    "cal_mae(20)"
   ]
  },
  {
   "cell_type": "markdown",
   "id": "b112cf25",
   "metadata": {},
   "source": [
    "# Func to calculate MSE (Mean square error)"
   ]
  },
  {
   "cell_type": "code",
   "execution_count": 68,
   "id": "26a74ed2",
   "metadata": {},
   "outputs": [],
   "source": [
    "def cal_mse(N):\n",
    "    for i in range(N):\n",
    "        mse = 0\n",
    "        y = random.random()\n",
    "        y_hat = random.random()\n",
    "        square_err = (y - y_hat)**2\n",
    "        print(f\"y = {y}, y_hat = {y_hat}\")\n",
    "        mse += square_err\n",
    "    mse /=N\n",
    "    return mse"
   ]
  },
  {
   "cell_type": "code",
   "execution_count": 69,
   "id": "14c7167e",
   "metadata": {},
   "outputs": [
    {
     "name": "stdout",
     "output_type": "stream",
     "text": [
      "y = 0.9087181510592132, y_hat = 0.06423597850738738\n",
      "y = 0.14425345939155299, y_hat = 0.5678669286718321\n",
      "y = 0.7201770827415263, y_hat = 0.28016835948076513\n",
      "y = 0.051563270387287474, y_hat = 0.03676497795828737\n",
      "y = 0.18443996967192855, y_hat = 0.6990409850353168\n",
      "y = 0.6847124486856148, y_hat = 0.47400529634024047\n",
      "y = 0.9148800364869109, y_hat = 0.4567794730836381\n",
      "y = 0.9967043802706484, y_hat = 0.46207710874586627\n",
      "y = 0.5001231358819304, y_hat = 0.27987085117026367\n",
      "y = 0.07381296619804889, y_hat = 0.8458308186288106\n"
     ]
    },
    {
     "data": {
      "text/plain": [
       "0.05960115644718054"
      ]
     },
     "execution_count": 69,
     "metadata": {},
     "output_type": "execute_result"
    }
   ],
   "source": [
    "cal_mse(10)"
   ]
  },
  {
   "cell_type": "markdown",
   "id": "4b776472",
   "metadata": {},
   "source": [
    "# Func to calculate RMSE"
   ]
  },
  {
   "cell_type": "code",
   "execution_count": 75,
   "id": "2e4644e5",
   "metadata": {},
   "outputs": [],
   "source": [
    "def cal_rmse(N):\n",
    "    rmse = 0\n",
    "    for i in range(N):\n",
    "        y = random.random()\n",
    "        y_hat = random.random()\n",
    "        print(f\"y = {y}, y_hat = {y_hat}\")\n",
    "        se = (y - y_hat)**2\n",
    "        rmse += se\n",
    "    rmse = math.sqrt(rmse/N)\n",
    "    return rmse\n"
   ]
  },
  {
   "cell_type": "code",
   "execution_count": 112,
   "id": "79a728db",
   "metadata": {},
   "outputs": [
    {
     "name": "stdout",
     "output_type": "stream",
     "text": [
      "y = 0.6860500238508953, y_hat = 0.7993384670302199\n",
      "y = 0.8020801764046441, y_hat = 0.8862467041815193\n",
      "y = 0.8472059033462097, y_hat = 0.8471772462323829\n",
      "y = 0.9194983660815508, y_hat = 0.7100526660775246\n",
      "y = 0.5759671734000115, y_hat = 0.8942503706069752\n",
      "y = 0.03359322585104041, y_hat = 0.08623546530918125\n",
      "y = 0.8218863411014644, y_hat = 0.4935332398848984\n",
      "y = 0.8585734271780598, y_hat = 0.07410891201533065\n",
      "y = 0.8920838989985658, y_hat = 0.34945280125894185\n",
      "y = 0.5881354277261385, y_hat = 0.977010312401977\n",
      "y = 0.8272746907117055, y_hat = 0.26332735651067507\n",
      "y = 0.5645197497120903, y_hat = 0.6901789848050093\n",
      "y = 0.28120882626795807, y_hat = 0.35152068769781486\n",
      "y = 0.32099611136041073, y_hat = 0.12284872843809258\n",
      "y = 0.046988882049025626, y_hat = 0.32519025477227015\n",
      "y = 0.7233903139240853, y_hat = 0.7074998160396461\n",
      "y = 0.1622975814977421, y_hat = 0.4490609667503017\n",
      "y = 0.5372383307820223, y_hat = 0.8109718583294551\n",
      "y = 0.8421977924812454, y_hat = 0.28688242371482275\n",
      "y = 0.4759206367034957, y_hat = 0.8416012618829354\n"
     ]
    },
    {
     "data": {
      "text/plain": [
       "0.3458089032476563"
      ]
     },
     "execution_count": 112,
     "metadata": {},
     "output_type": "execute_result"
    }
   ],
   "source": [
    "cal_rmse(20)"
   ]
  }
 ],
 "metadata": {
  "kernelspec": {
   "display_name": "venv",
   "language": "python",
   "name": "python3"
  },
  "language_info": {
   "codemirror_mode": {
    "name": "ipython",
    "version": 3
   },
   "file_extension": ".py",
   "mimetype": "text/x-python",
   "name": "python",
   "nbconvert_exporter": "python",
   "pygments_lexer": "ipython3",
   "version": "3.13.3"
  }
 },
 "nbformat": 4,
 "nbformat_minor": 5
}
