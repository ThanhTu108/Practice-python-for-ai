{
 "cells": [
  {
   "cell_type": "markdown",
   "id": "070085f2",
   "metadata": {},
   "source": [
    "# Func to calculate MAE( Mean absolute error)"
   ]
  },
  {
   "cell_type": "code",
   "execution_count": 1,
   "id": "247f47b5",
   "metadata": {},
   "outputs": [],
   "source": [
    "def mean(N):\n",
    "    mean = 0\n",
    "    for i in range(N):\n",
    "        mean+=1\n",
    "    mean/=N\n",
    "    return mean\n"
   ]
  },
  {
   "cell_type": "code",
   "execution_count": 2,
   "id": "19103e89",
   "metadata": {},
   "outputs": [
    {
     "data": {
      "text/plain": [
       "1.0"
      ]
     },
     "execution_count": 2,
     "metadata": {},
     "output_type": "execute_result"
    }
   ],
   "source": [
    "mean(3)"
   ]
  },
  {
   "cell_type": "code",
   "execution_count": 3,
   "id": "8569e816",
   "metadata": {},
   "outputs": [],
   "source": [
    "import random\n",
    "import math"
   ]
  },
  {
   "cell_type": "code",
   "execution_count": 4,
   "id": "b680fd86",
   "metadata": {},
   "outputs": [],
   "source": [
    "def cal_mae(N):\n",
    "    mae = 0\n",
    "    for i in range(N):\n",
    "        y = random.random()\n",
    "        y_hat = random.random()\n",
    "        abs_err = abs(y - y_hat)\n",
    "        print(f\"y = {y}, y_hat = {y_hat}\")\n",
    "        mae = mae + abs_err\n",
    "    mae /=N\n",
    "    return mae\n"
   ]
  },
  {
   "cell_type": "code",
   "execution_count": 5,
   "id": "886129c3",
   "metadata": {},
   "outputs": [
    {
     "name": "stdout",
     "output_type": "stream",
     "text": [
      "y = 0.23838910473993746, y_hat = 0.0015082317813254198\n",
      "y = 0.01543077760224032, y_hat = 0.3336132852857241\n",
      "y = 0.6515110171888477, y_hat = 0.47080309133274567\n",
      "y = 0.27117448977031633, y_hat = 0.7561447592476717\n",
      "y = 0.06824889848677651, y_hat = 0.71637877765431\n",
      "y = 0.5593034887907639, y_hat = 0.07366591711666748\n",
      "y = 0.8604895672877884, y_hat = 0.24578259708180916\n",
      "y = 0.1358359508120599, y_hat = 0.24009173529543137\n",
      "y = 0.8124048725785751, y_hat = 0.10346989421378239\n",
      "y = 0.2627150411109086, y_hat = 0.9894194161960624\n",
      "y = 0.5521726877878756, y_hat = 0.3289256296638312\n",
      "y = 0.43736670506547515, y_hat = 0.03915967134923115\n",
      "y = 0.8898278093677817, y_hat = 0.5568309982024015\n",
      "y = 0.011679959409258367, y_hat = 0.9329274783229863\n",
      "y = 0.9585149453684892, y_hat = 0.12585820104161072\n",
      "y = 0.05976832132838139, y_hat = 0.11001141363176792\n",
      "y = 0.6640601441521248, y_hat = 0.4590204736080269\n",
      "y = 0.7868364821294744, y_hat = 0.014936555284850939\n",
      "y = 0.9499647559056139, y_hat = 0.9858661625077298\n",
      "y = 0.9593208772069064, y_hat = 0.015994199266561093\n"
     ]
    },
    {
     "data": {
      "text/plain": [
       "0.4611938537718663"
      ]
     },
     "execution_count": 5,
     "metadata": {},
     "output_type": "execute_result"
    }
   ],
   "source": [
    "cal_mae(20)"
   ]
  },
  {
   "cell_type": "markdown",
   "id": "b112cf25",
   "metadata": {},
   "source": [
    "# Func to calculate MSE (Mean square error)"
   ]
  },
  {
   "cell_type": "code",
   "execution_count": 6,
   "id": "26a74ed2",
   "metadata": {},
   "outputs": [],
   "source": [
    "def cal_mse(N):\n",
    "    for i in range(N):\n",
    "        mse = 0\n",
    "        y = random.random()\n",
    "        y_hat = random.random()\n",
    "        square_err = (y - y_hat)**2\n",
    "        print(f\"y = {y}, y_hat = {y_hat}\")\n",
    "        mse += square_err\n",
    "    mse /=N\n",
    "    return mse"
   ]
  },
  {
   "cell_type": "code",
   "execution_count": 7,
   "id": "14c7167e",
   "metadata": {},
   "outputs": [
    {
     "name": "stdout",
     "output_type": "stream",
     "text": [
      "y = 0.6501563911605465, y_hat = 0.16224757509312437\n",
      "y = 0.7344544427987377, y_hat = 0.7751138252035512\n",
      "y = 0.8931784752358556, y_hat = 0.7620141881646006\n",
      "y = 0.7186547769364197, y_hat = 0.8330979122480038\n",
      "y = 0.49795379121589023, y_hat = 0.6735858238057645\n",
      "y = 0.9401240356592422, y_hat = 0.386931659688004\n",
      "y = 0.22728659175457244, y_hat = 0.9713621570682026\n",
      "y = 0.6829815594422385, y_hat = 0.13431246911877126\n",
      "y = 0.1959705377596408, y_hat = 0.6760035716375953\n",
      "y = 0.9610904421073787, y_hat = 0.28494153921707477\n"
     ]
    },
    {
     "data": {
      "text/plain": [
       "0.04571773388797616"
      ]
     },
     "execution_count": 7,
     "metadata": {},
     "output_type": "execute_result"
    }
   ],
   "source": [
    "cal_mse(10)"
   ]
  },
  {
   "cell_type": "markdown",
   "id": "4b776472",
   "metadata": {},
   "source": [
    "# Func to calculate RMSE"
   ]
  },
  {
   "cell_type": "code",
   "execution_count": 8,
   "id": "2e4644e5",
   "metadata": {},
   "outputs": [],
   "source": [
    "def cal_rmse(N):\n",
    "    rmse = 0\n",
    "    for i in range(N):\n",
    "        y = random.random()\n",
    "        y_hat = random.random()\n",
    "        print(f\"y = {y}, y_hat = {y_hat}\")\n",
    "        se = (y - y_hat)**2\n",
    "        rmse += se\n",
    "    rmse = math.sqrt(rmse/N)\n",
    "    return rmse\n"
   ]
  },
  {
   "cell_type": "code",
   "execution_count": 9,
   "id": "79a728db",
   "metadata": {},
   "outputs": [
    {
     "name": "stdout",
     "output_type": "stream",
     "text": [
      "y = 0.14633770141240443, y_hat = 0.5326942057905341\n",
      "y = 0.9989337717157364, y_hat = 0.9597602221182924\n",
      "y = 0.13822750123743865, y_hat = 0.2821220943845597\n",
      "y = 0.9351830917155987, y_hat = 0.37540148686634844\n",
      "y = 0.9196828782415405, y_hat = 0.7775436035482819\n",
      "y = 0.951190486937087, y_hat = 0.7755691650267829\n",
      "y = 0.030150778666978573, y_hat = 0.30328535113858845\n",
      "y = 0.10360966571162489, y_hat = 0.9310201091511336\n",
      "y = 0.9593302402844408, y_hat = 0.6574627044471817\n",
      "y = 0.8032090007894709, y_hat = 0.43318234671416145\n",
      "y = 0.7946264521210086, y_hat = 0.8439183057441536\n",
      "y = 0.8172743435063917, y_hat = 0.984029269491715\n",
      "y = 0.8783358153103125, y_hat = 0.7735309898662702\n",
      "y = 0.5946920400239881, y_hat = 0.47840709357022526\n",
      "y = 0.7147136106323504, y_hat = 0.8955921637689088\n",
      "y = 0.5703522232365626, y_hat = 0.8447822204430893\n",
      "y = 0.059931186007446846, y_hat = 0.2259452317648678\n",
      "y = 0.822347871572483, y_hat = 0.6218688515364588\n",
      "y = 0.32232163447063256, y_hat = 0.08499370262321304\n",
      "y = 0.9265013084248137, y_hat = 0.7138043939152006\n"
     ]
    },
    {
     "data": {
      "text/plain": [
       "0.3045699213179372"
      ]
     },
     "execution_count": 9,
     "metadata": {},
     "output_type": "execute_result"
    }
   ],
   "source": [
    "cal_rmse(20)"
   ]
  }
 ],
 "metadata": {
  "kernelspec": {
   "display_name": "venv",
   "language": "python",
   "name": "python3"
  },
  "language_info": {
   "codemirror_mode": {
    "name": "ipython",
    "version": 3
   },
   "file_extension": ".py",
   "mimetype": "text/x-python",
   "name": "python",
   "nbconvert_exporter": "python",
   "pygments_lexer": "ipython3",
   "version": "3.13.3"
  }
 },
 "nbformat": 4,
 "nbformat_minor": 5
}
