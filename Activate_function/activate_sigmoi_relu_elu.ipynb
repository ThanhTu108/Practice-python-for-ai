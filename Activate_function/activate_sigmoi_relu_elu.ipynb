{
 "cells": [
  {
   "cell_type": "markdown",
   "id": "e40bb6c4",
   "metadata": {},
   "source": [
    "* Sigmoid(x) = 1/(1+e^-x)\n",
    "* relu(x) = 0 if x <= 0\n",
    "            1 if x > 0\n",
    "* elu(x) = α(e^x - 1) if x<=0\n",
    "             x if x > 0\n",
    "* α = 0.01"
   ]
  },
  {
   "cell_type": "code",
   "execution_count": 44,
   "id": "38af7f54",
   "metadata": {},
   "outputs": [],
   "source": [
    "import math"
   ]
  },
  {
   "cell_type": "markdown",
   "id": "1b03e397",
   "metadata": {},
   "source": [
    "# function: check is number"
   ]
  },
  {
   "cell_type": "code",
   "execution_count": 45,
   "id": "00afeba8",
   "metadata": {},
   "outputs": [],
   "source": [
    "def is_number(n):\n",
    "    try:\n",
    "        float(n)   #type casting string to float, if string is not valid. It't will raise ValueError expetion\n",
    "    except ValueError:\n",
    "        return False\n",
    "    return True"
   ]
  },
  {
   "cell_type": "code",
   "execution_count": 46,
   "id": "1206e77c",
   "metadata": {},
   "outputs": [
    {
     "data": {
      "text/plain": [
       "True"
      ]
     },
     "execution_count": 46,
     "metadata": {},
     "output_type": "execute_result"
    }
   ],
   "source": [
    "is_number(3)"
   ]
  },
  {
   "cell_type": "markdown",
   "id": "543442a9",
   "metadata": {},
   "source": [
    "# Activate function (sigmoid, relu, elu)"
   ]
  },
  {
   "cell_type": "code",
   "execution_count": 47,
   "id": "7a9526a9",
   "metadata": {},
   "outputs": [],
   "source": [
    "def cal_sigmoid(x):\n",
    "    return 1/(1+math.e**(-x))"
   ]
  },
  {
   "cell_type": "code",
   "execution_count": 48,
   "id": "cf59e990",
   "metadata": {},
   "outputs": [],
   "source": [
    "def cal_relu(x):\n",
    "    if x > 0:\n",
    "        return x\n",
    "    else:\n",
    "        return 0"
   ]
  },
  {
   "cell_type": "code",
   "execution_count": 49,
   "id": "359c58f5",
   "metadata": {},
   "outputs": [],
   "source": [
    "def cal_elu(x):\n",
    "    alpha = 0.01\n",
    "    if x <= 0:\n",
    "        return alpha*(math.e**x-1)\n",
    "    else:\n",
    "        return x"
   ]
  },
  {
   "cell_type": "markdown",
   "id": "a5c7c485",
   "metadata": {},
   "source": [
    "# Chose activation function"
   ]
  },
  {
   "cell_type": "code",
   "execution_count": 50,
   "id": "55c5914a",
   "metadata": {},
   "outputs": [],
   "source": [
    "def cal_activation_func(x, act_name):\n",
    "    if act_name == 'sigmoid':\n",
    "        return  cal_sigmoid(x)\n",
    "    elif act_name == 'relu':\n",
    "        return  cal_relu(x)\n",
    "    elif act_name == 'elu':\n",
    "        return  cal_elu(x)\n",
    "    return None"
   ]
  },
  {
   "cell_type": "markdown",
   "id": "51c601f3",
   "metadata": {},
   "source": [
    "# function to comunicate user and interface"
   ]
  },
  {
   "cell_type": "code",
   "execution_count": 51,
   "id": "856b923f",
   "metadata": {},
   "outputs": [],
   "source": [
    "def chose_act_name_func():\n",
    "    x = input(\"input x = \")\n",
    "    if not is_number(x):\n",
    "        print(\"{x} must is float\")\n",
    "        return\n",
    "    act_name = input(('activation function name (sigmoid, relu, elu): '))\n",
    "    x = float(x)\n",
    "    result = cal_activation_func(x, act_name)\n",
    "    if result == None:\n",
    "        print(act_name + \" is not supported\")\n",
    "    else:\n",
    "        print(f\"{act_name}({x}) = {result}\")"
   ]
  },
  {
   "cell_type": "markdown",
   "id": "14f62957",
   "metadata": {},
   "source": [
    "# test case\n"
   ]
  },
  {
   "cell_type": "code",
   "execution_count": 52,
   "id": "167bad65",
   "metadata": {},
   "outputs": [
    {
     "name": "stdout",
     "output_type": "stream",
     "text": [
      "elu(-5.0) = -0.009932620530009146\n"
     ]
    }
   ],
   "source": [
    "chose_act_name_func()"
   ]
  }
 ],
 "metadata": {
  "kernelspec": {
   "display_name": "venv",
   "language": "python",
   "name": "python3"
  },
  "language_info": {
   "codemirror_mode": {
    "name": "ipython",
    "version": 3
   },
   "file_extension": ".py",
   "mimetype": "text/x-python",
   "name": "python",
   "nbconvert_exporter": "python",
   "pygments_lexer": "ipython3",
   "version": "3.13.3"
  }
 },
 "nbformat": 4,
 "nbformat_minor": 5
}
