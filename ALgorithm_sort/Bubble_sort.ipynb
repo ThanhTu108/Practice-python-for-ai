{
 "cells": [
  {
   "cell_type": "markdown",
   "id": "c98fc120",
   "metadata": {},
   "source": [
    "## key (sort)"
   ]
  },
  {
   "cell_type": "code",
   "execution_count": 170,
   "id": "2a5cdf79",
   "metadata": {},
   "outputs": [
    {
     "name": "stdout",
     "output_type": "stream",
     "text": [
      "[('f', 1), ('b', 5), ('e,', 3), ('a', 4), ('g', 8), ('c', 2)]\n",
      "[('a', 4), ('b', 5), ('c', 2), ('e,', 3), ('f', 1), ('g', 8)]\n"
     ]
    }
   ],
   "source": [
    "list1 = ['f', 'b','e,', 'a', 'g', 'c']\n",
    "list2 = [1,5,3,4,8,2,1,6,7,9,0]\n",
    "\n",
    "list3 = list(zip(list1, list2))\n",
    "print(list3)    \n",
    "\n",
    "def compare(input_list):\n",
    "    return input_list[0]\n",
    "\n",
    "list_sort = sorted(list3, key=compare)\n",
    "print(list_sort)"
   ]
  },
  {
   "cell_type": "markdown",
   "id": "63898739",
   "metadata": {},
   "source": [
    "## lambda function\n"
   ]
  },
  {
   "cell_type": "markdown",
   "id": "a963287f",
   "metadata": {},
   "source": [
    "* syntas:  \n",
    "**lambda arguments:expression**"
   ]
  },
  {
   "cell_type": "markdown",
   "id": "75c6a483",
   "metadata": {},
   "source": [
    "* lambda is inline function\n",
    "* lambda function can have any number of arguments but only one expression (don't reuse)"
   ]
  },
  {
   "cell_type": "code",
   "execution_count": 171,
   "id": "ae25535f",
   "metadata": {},
   "outputs": [
    {
     "name": "stdout",
     "output_type": "stream",
     "text": [
      "15\n"
     ]
    }
   ],
   "source": [
    "a_ldfunction = lambda x:x+10\n",
    "print(a_ldfunction(5))"
   ]
  },
  {
   "cell_type": "code",
   "execution_count": 172,
   "id": "b963c103",
   "metadata": {},
   "outputs": [
    {
     "name": "stdout",
     "output_type": "stream",
     "text": [
      "[('f', 1), ('c', 2), ('e,', 3), ('a', 4), ('b', 5), ('g', 8)]\n"
     ]
    }
   ],
   "source": [
    "list1 = ['f', 'b','e,', 'a', 'g', 'c']\n",
    "list2 = [1,5,3,4,8,2,1,6,7,9,0]\n",
    "list3 = list(zip(list1, list2)) \n",
    "list_sort = sorted(list3, key=lambda x: x[1])\n",
    "print(list_sort)"
   ]
  },
  {
   "cell_type": "markdown",
   "id": "2312b222",
   "metadata": {},
   "source": [
    "# Bubble sort"
   ]
  },
  {
   "cell_type": "code",
   "execution_count": 173,
   "id": "8d121fef",
   "metadata": {},
   "outputs": [],
   "source": [
    "def swap_list(arr, i):\n",
    "    arr[i], arr[i+1] = arr[i+1], arr[i]\n",
    "\n",
    "    "
   ]
  },
  {
   "cell_type": "markdown",
   "id": "3e4df81d",
   "metadata": {},
   "source": [
    "## V1: this implement is not optimal "
   ]
  },
  {
   "cell_type": "code",
   "execution_count": 174,
   "id": "c77b6a4f",
   "metadata": {},
   "outputs": [],
   "source": [
    "def bubble_sort1(arr):\n",
    "    n = len(arr)\n",
    "    step = 1\n",
    "    for i in range(n-1):\n",
    "        for j in range(n-1):\n",
    "            print(f\"step={step}\", end = ' ')\n",
    "            step +=1\n",
    "            if arr[j] > arr[j + 1]:\n",
    "                swap_list(arr, j)\n",
    "    return arr"
   ]
  },
  {
   "cell_type": "code",
   "execution_count": 175,
   "id": "8e115eb2",
   "metadata": {},
   "outputs": [
    {
     "name": "stdout",
     "output_type": "stream",
     "text": [
      "step=1 step=2 step=3 step=4 step=5 step=6 step=7 step=8 step=9 step=10 step=11 step=12 step=13 step=14 step=15 step=16 \n",
      "Sorted array is: [1, 2, 4, 5, 8]\n"
     ]
    }
   ],
   "source": [
    "arr = [5, 1, 4, 2, 8]\n",
    "bubble_sort1(arr)\n",
    "print()\n",
    "print(f\"Sorted array is: {arr}\")"
   ]
  },
  {
   "cell_type": "code",
   "execution_count": 176,
   "id": "619cf672",
   "metadata": {},
   "outputs": [],
   "source": [
    "def bubble_sort2(arr):\n",
    "    step = 1\n",
    "    n = len(arr)\n",
    "    for i in range(n - 1):\n",
    "        for j in range(n-1-i):\n",
    "            print(f\"step={step}\", end = ' ')\n",
    "            step +=1\n",
    "            if arr[j] > arr[j + 1]:\n",
    "                swap_list(arr, j)"
   ]
  },
  {
   "cell_type": "code",
   "execution_count": 177,
   "id": "c037491e",
   "metadata": {},
   "outputs": [
    {
     "name": "stdout",
     "output_type": "stream",
     "text": [
      "step=1 step=2 step=3 step=4 step=5 step=6 step=7 step=8 step=9 step=10 step=11 step=12 step=13 step=14 step=15 step=16 \n",
      "Sorted array is: [1, 2, 4, 5, 8]\n"
     ]
    }
   ],
   "source": [
    "arr2 = [5, 1, 4, 2, 8]\n",
    "bubble_sort1(arr2)\n",
    "print()\n",
    "print(f\"Sorted array is: {arr2}\")"
   ]
  },
  {
   "cell_type": "markdown",
   "id": "7813209b",
   "metadata": {},
   "source": [
    "## V2: better solution"
   ]
  },
  {
   "cell_type": "code",
   "execution_count": 181,
   "id": "22fe6c12",
   "metadata": {},
   "outputs": [],
   "source": [
    "def bubble_sort3(arr):\n",
    "    step = 1\n",
    "    n = len(arr)\n",
    "    \n",
    "    for i in range(n - 1):\n",
    "        swap = False\n",
    "        for j in range(n-1-i):\n",
    "            print(f\"step={step}\", end = ' ')\n",
    "            step +=1\n",
    "            if arr[j] > arr[j + 1]:\n",
    "                swap = True\n",
    "                swap_list(arr, j)\n",
    "        if not swap:\n",
    "            return "
   ]
  }
 ],
 "metadata": {
  "kernelspec": {
   "display_name": "venv",
   "language": "python",
   "name": "python3"
  },
  "language_info": {
   "codemirror_mode": {
    "name": "ipython",
    "version": 3
   },
   "file_extension": ".py",
   "mimetype": "text/x-python",
   "name": "python",
   "nbconvert_exporter": "python",
   "pygments_lexer": "ipython3",
   "version": "3.13.3"
  }
 },
 "nbformat": 4,
 "nbformat_minor": 5
}
