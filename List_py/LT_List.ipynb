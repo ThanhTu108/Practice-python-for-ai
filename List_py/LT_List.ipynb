{
 "cells": [
  {
   "cell_type": "markdown",
   "id": "ea604d0e",
   "metadata": {},
   "source": [
    "# Câu 1: Tạo mới 1 List gồm các số từ 1 tới 10"
   ]
  },
  {
   "cell_type": "code",
   "execution_count": 11,
   "id": "080b7a70",
   "metadata": {},
   "outputs": [
    {
     "data": {
      "text/plain": [
       "[1, 2, 3, 4, 5, 6, 7, 8, 9, 10]"
      ]
     },
     "execution_count": 11,
     "metadata": {},
     "output_type": "execute_result"
    }
   ],
   "source": [
    "Lst = [x for x in range(1,11)]\n",
    "Lst"
   ]
  },
  {
   "cell_type": "markdown",
   "id": "4be3c20f",
   "metadata": {},
   "source": [
    "# Câu 2: In ra kết quả 5 phần tử đầu tiên có trong List trên"
   ]
  },
  {
   "cell_type": "code",
   "execution_count": 12,
   "id": "a03184ac",
   "metadata": {},
   "outputs": [
    {
     "data": {
      "text/plain": [
       "[1, 2, 3, 4, 5]"
      ]
     },
     "execution_count": 12,
     "metadata": {},
     "output_type": "execute_result"
    }
   ],
   "source": [
    "Lst[:5]"
   ]
  },
  {
   "cell_type": "markdown",
   "id": "c367078e",
   "metadata": {},
   "source": [
    "# Câu 3: In ra kết quả phần tử có giá trị không/có chia hết cho 2"
   ]
  },
  {
   "cell_type": "code",
   "execution_count": 13,
   "id": "63850d30",
   "metadata": {},
   "outputs": [
    {
     "name": "stdout",
     "output_type": "stream",
     "text": [
      "[1, 3, 5, 7, 9]\n",
      "[2, 4, 6, 8, 10]\n"
     ]
    }
   ],
   "source": [
    "Lst_2 = [x for x in Lst if(x%2 != 0)]\n",
    "Lst_2\n",
    "print(Lst_2)\n",
    "Lst_3 = [x for x in Lst if(x%2 == 0)]\n",
    "print(Lst_3)"
   ]
  },
  {
   "cell_type": "markdown",
   "id": "812b2c34",
   "metadata": {},
   "source": [
    "# Câu 4: In ra kết quả tổng các giá trị trong list"
   ]
  },
  {
   "cell_type": "code",
   "execution_count": 14,
   "id": "53154eb5",
   "metadata": {},
   "outputs": [
    {
     "data": {
      "text/plain": [
       "55"
      ]
     },
     "execution_count": 14,
     "metadata": {},
     "output_type": "execute_result"
    }
   ],
   "source": [
    "sum(Lst)"
   ]
  }
 ],
 "metadata": {
  "kernelspec": {
   "display_name": "venv",
   "language": "python",
   "name": "python3"
  },
  "language_info": {
   "codemirror_mode": {
    "name": "ipython",
    "version": 3
   },
   "file_extension": ".py",
   "mimetype": "text/x-python",
   "name": "python",
   "nbconvert_exporter": "python",
   "pygments_lexer": "ipython3",
   "version": "3.13.3"
  }
 },
 "nbformat": 4,
 "nbformat_minor": 5
}
