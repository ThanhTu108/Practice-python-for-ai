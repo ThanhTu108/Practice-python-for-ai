{
 "cells": [
  {
   "cell_type": "markdown",
   "id": "338f79cc",
   "metadata": {},
   "source": [
    "# Bài tập về string"
   ]
  },
  {
   "cell_type": "code",
   "execution_count": 54,
   "id": "cb4f2bd6",
   "metadata": {},
   "outputs": [
    {
     "data": {
      "text/plain": [
       "'hello'"
      ]
     },
     "execution_count": 54,
     "metadata": {},
     "output_type": "execute_result"
    }
   ],
   "source": [
    "txt = \"hello\"\n",
    "txt"
   ]
  },
  {
   "cell_type": "code",
   "execution_count": 55,
   "id": "dd728ceb",
   "metadata": {},
   "outputs": [
    {
     "data": {
      "text/plain": [
       "'Happy New Year:  2025'"
      ]
     },
     "execution_count": 55,
     "metadata": {},
     "output_type": "execute_result"
    }
   ],
   "source": [
    "'%s %s %d' % (\"Happy\", \"New Year: \", 2025)"
   ]
  },
  {
   "cell_type": "code",
   "execution_count": 56,
   "id": "dcb13060",
   "metadata": {},
   "outputs": [
    {
     "name": "stdout",
     "output_type": "stream",
     "text": [
      "Hello\n",
      "HELLO\n",
      "hello\n",
      "     hello\n",
      "                      hello                       \n",
      "Hello\n",
      "hehehehehehehe\n",
      "-TuThanh-\n"
     ]
    }
   ],
   "source": [
    "print(txt.capitalize()) #The first character is upper\n",
    "print(txt.upper())  #all string\n",
    "print(txt.lower())\n",
    "print(txt.rjust(10))    # Căn lề phải\n",
    "print(txt.center(50))\n",
    "print(txt.title())\n",
    "print(txt.replace(\"llo\", \"hehehehehehe\"))\n",
    "print(\"   -TuThanh-   \".strip())"
   ]
  },
  {
   "cell_type": "markdown",
   "id": "ef856d8a",
   "metadata": {},
   "source": [
    "\n",
    "Bài 1: Tạo một biến name gán giá trị là tên một người, sau đó hiển thị ra\n",
    "màn hình một thông báo chưa tên đó sử dụng f-string.\n",
    "\n"
   ]
  },
  {
   "cell_type": "code",
   "execution_count": 57,
   "id": "f05ee1d6",
   "metadata": {},
   "outputs": [
    {
     "name": "stdout",
     "output_type": "stream",
     "text": [
      "His name is Thanh Tú\n"
     ]
    }
   ],
   "source": [
    "name = \"Thanh Tú\"\n",
    "print(f\"His name is {name}\")"
   ]
  },
  {
   "cell_type": "markdown",
   "id": "48ef7c6a",
   "metadata": {},
   "source": [
    "Bài 2: Tạo một biến và giá trị \"ms Taylor\" cho nó, sau đó thực hiện in ra\n",
    "màn hình giá trị biến đó được viết hoa kí tự đầu tiên mỗi từ hoặc toàn bộ\n",
    "đều là chữ in hoa, hoặc chữ thường"
   ]
  },
  {
   "cell_type": "code",
   "execution_count": 58,
   "id": "747a7c9e",
   "metadata": {},
   "outputs": [
    {
     "name": "stdout",
     "output_type": "stream",
     "text": [
      "ms Taylor\n",
      "Ms Taylor\n",
      "MS TAYLOR\n",
      "ms taylor\n"
     ]
    }
   ],
   "source": [
    "s = \"ms Taylor\"\n",
    "print(s)\n",
    "print(s.title())\n",
    "print(s.upper())\n",
    "print(s.lower())"
   ]
  }
 ],
 "metadata": {
  "kernelspec": {
   "display_name": "venv",
   "language": "python",
   "name": "python3"
  },
  "language_info": {
   "codemirror_mode": {
    "name": "ipython",
    "version": 3
   },
   "file_extension": ".py",
   "mimetype": "text/x-python",
   "name": "python",
   "nbconvert_exporter": "python",
   "pygments_lexer": "ipython3",
   "version": "3.13.3"
  }
 },
 "nbformat": 4,
 "nbformat_minor": 5
}
