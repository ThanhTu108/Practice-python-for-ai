{
 "cells": [
  {
   "cell_type": "markdown",
   "id": "338f79cc",
   "metadata": {},
   "source": [
    "# Bài tập về string (chuỗi)"
   ]
  },
  {
   "cell_type": "code",
   "execution_count": null,
   "id": "cb4f2bd6",
   "metadata": {},
   "outputs": [
    {
     "data": {
      "text/plain": [
       "' hello'"
      ]
     },
     "execution_count": 34,
     "metadata": {},
     "output_type": "execute_result"
    }
   ],
   "source": [
    "txt = \"hello\"\n",
    "txt"
   ]
  },
  {
   "cell_type": "code",
   "execution_count": 27,
   "id": "dd728ceb",
   "metadata": {},
   "outputs": [
    {
     "data": {
      "text/plain": [
       "'Happy New Year:  2025'"
      ]
     },
     "execution_count": 27,
     "metadata": {},
     "output_type": "execute_result"
    }
   ],
   "source": [
    "'%s %s %d' % (\"Happy\", \"New Year: \", 2025)"
   ]
  },
  {
   "cell_type": "code",
   "execution_count": 33,
   "id": "dcb13060",
   "metadata": {},
   "outputs": [
    {
     "name": "stdout",
     "output_type": "stream",
     "text": [
      "Hello\n",
      "HELLO\n",
      "hello\n",
      "     hello\n",
      "                      hello                       \n",
      "Hello\n",
      "hehehehehehehe\n",
      "hello\n"
     ]
    }
   ],
   "source": [
    "print(txt.capitalize()) #The first character is upper\n",
    "print(txt.upper())  #all string\n",
    "print(txt.lower())\n",
    "print(txt.rjust(10))    # Căn lề phải\n",
    "print(txt.center(50))\n",
    "print(txt.title())\n",
    "print(txt.replace(\"llo\", \"hehehehehehe\"))\n",
    "print(txt.strip())"
   ]
  }
 ],
 "metadata": {
  "kernelspec": {
   "display_name": "venv",
   "language": "python",
   "name": "python3"
  },
  "language_info": {
   "codemirror_mode": {
    "name": "ipython",
    "version": 3
   },
   "file_extension": ".py",
   "mimetype": "text/x-python",
   "name": "python",
   "nbconvert_exporter": "python",
   "pygments_lexer": "ipython3",
   "version": "3.13.3"
  }
 },
 "nbformat": 4,
 "nbformat_minor": 5
}
