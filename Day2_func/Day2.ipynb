{
 "cells": [
  {
   "cell_type": "markdown",
   "id": "aa413435",
   "metadata": {},
   "source": [
    "# Giải phương trình bậc 2"
   ]
  },
  {
   "cell_type": "markdown",
   "id": "af335ca3",
   "metadata": {},
   "source": [
    "ax^2 + bx + c = y"
   ]
  },
  {
   "cell_type": "code",
   "execution_count": 17,
   "id": "57b5470f",
   "metadata": {},
   "outputs": [],
   "source": [
    "def quadratic_equation(a,b,c):\n",
    "    x1, x2 = 0,0\n",
    "    delta = b**2 - 4*a*c\n",
    "    if delta > 0 :\n",
    "        x1 = (-b + delta**0.5) / (2*a)\n",
    "        x2 = (-b - delta**0.5) / (2*a)\n",
    "        print(f\"x1 = {x1} \\nx2 = {x2}\")\n",
    "    elif delta == 0:\n",
    "        x1 = x2 = -b / 2*a\n",
    "        print(f\"x1 = x2 = {x2}\")\n",
    "    else:\n",
    "        print(\"No solution equation\")\n"
   ]
  },
  {
   "cell_type": "markdown",
   "id": "2006a94c",
   "metadata": {},
   "source": [
    "# Test case"
   ]
  },
  {
   "cell_type": "code",
   "execution_count": 18,
   "id": "3e3e620b",
   "metadata": {},
   "outputs": [
    {
     "name": "stdout",
     "output_type": "stream",
     "text": [
      "x1 = -1.0 \n",
      "x2 = -2.0\n"
     ]
    }
   ],
   "source": [
    "quadratic_equation(2,6,4)"
   ]
  },
  {
   "cell_type": "code",
   "execution_count": 19,
   "id": "376a00c0",
   "metadata": {},
   "outputs": [
    {
     "name": "stdout",
     "output_type": "stream",
     "text": [
      "x1 = x2 = -1.0\n"
     ]
    }
   ],
   "source": [
    "\n",
    "quadratic_equation(1,2,1)"
   ]
  },
  {
   "cell_type": "code",
   "execution_count": 20,
   "id": "d21590e9",
   "metadata": {},
   "outputs": [
    {
     "name": "stdout",
     "output_type": "stream",
     "text": [
      "No solution equation\n"
     ]
    }
   ],
   "source": [
    "quadratic_equation(4,6,3)"
   ]
  }
 ],
 "metadata": {
  "kernelspec": {
   "display_name": "venv",
   "language": "python",
   "name": "python3"
  },
  "language_info": {
   "codemirror_mode": {
    "name": "ipython",
    "version": 3
   },
   "file_extension": ".py",
   "mimetype": "text/x-python",
   "name": "python",
   "nbconvert_exporter": "python",
   "pygments_lexer": "ipython3",
   "version": "3.13.3"
  }
 },
 "nbformat": 4,
 "nbformat_minor": 5
}
