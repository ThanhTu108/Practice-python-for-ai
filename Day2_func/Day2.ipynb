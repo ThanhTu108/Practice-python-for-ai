{
 "cells": [
  {
   "cell_type": "markdown",
   "id": "aa413435",
   "metadata": {},
   "source": [
    "# Giải phương trình bậc 2"
   ]
  },
  {
   "cell_type": "code",
   "execution_count": null,
   "id": "57b5470f",
   "metadata": {},
   "outputs": [],
   "source": [
    "def quadratic_equation(a,b,c):\n",
    "    x1 = 0, x2 = 0\n",
    "    delta = b**2 - 4*a*c\n",
    "    if delta > 0 :\n",
    "        x1 = (-b + delta**0.5) / (2*a)\n",
    "        x1 = (-b - delta**0.5) / (2*a)\n"
   ]
  }
 ],
 "metadata": {
  "kernelspec": {
   "display_name": "venv",
   "language": "python",
   "name": "python3"
  },
  "language_info": {
   "name": "python",
   "version": "3.13.3"
  }
 },
 "nbformat": 4,
 "nbformat_minor": 5
}
